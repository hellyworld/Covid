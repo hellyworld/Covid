{
  "nbformat": 4,
  "nbformat_minor": 0,
  "metadata": {
    "colab": {
      "name": "py ex",
      "provenance": [],
      "collapsed_sections": [],
      "authorship_tag": "ABX9TyP9Z6bauZIdYR2qZfXpj6ba",
      "include_colab_link": true
    },
    "kernelspec": {
      "name": "python3",
      "display_name": "Python 3"
    }
  },
  "cells": [
    {
      "cell_type": "markdown",
      "metadata": {
        "id": "view-in-github",
        "colab_type": "text"
      },
      "source": [
        "<a href=\"https://colab.research.google.com/github/simofleanta/Covid/blob/master/py_ex.ipynb\" target=\"_parent\"><img src=\"https://colab.research.google.com/assets/colab-badge.svg\" alt=\"Open In Colab\"/></a>"
      ]
    },
    {
      "cell_type": "markdown",
      "metadata": {
        "id": "NeyJzvV-iA-5",
        "colab_type": "text"
      },
      "source": [
        "Ex1"
      ]
    },
    {
      "cell_type": "code",
      "metadata": {
        "id": "FhPV66D-h99S",
        "colab_type": "code",
        "colab": {}
      },
      "source": [
        "# Given the string:\n",
        "name = 'django'\n",
        "# Use indexing to print out the following:\n",
        "# 'd'"
      ],
      "execution_count": null,
      "outputs": []
    },
    {
      "cell_type": "code",
      "metadata": {
        "id": "ZdU-4NOVg1g1",
        "colab_type": "code",
        "colab": {
          "base_uri": "https://localhost:8080/",
          "height": 121
        },
        "outputId": "9e142d1c-93c9-4f03-b904-3a03019ad172"
      },
      "source": [
        "print(name[0])\n",
        "print(name[-1])\n",
        "print(name[0:4])\n",
        "print(name[1:4])\n",
        "print(name[4:6])\n",
        "print(name[3:6])\n"
      ],
      "execution_count": null,
      "outputs": [
        {
          "output_type": "stream",
          "text": [
            "d\n",
            "o\n",
            "djan\n",
            "jan\n",
            "go\n",
            "ngo\n"
          ],
          "name": "stdout"
        }
      ]
    },
    {
      "cell_type": "markdown",
      "metadata": {
        "id": "GFEIVU7fmfAI",
        "colab_type": "text"
      },
      "source": [
        "Reverse index"
      ]
    },
    {
      "cell_type": "code",
      "metadata": {
        "id": "n8WiyqMGhwKS",
        "colab_type": "code",
        "colab": {
          "base_uri": "https://localhost:8080/",
          "height": 173
        },
        "outputId": "51d00f2a-4fa0-43ea-b72a-8edee7b63ee6"
      },
      "source": [
        "print(name[-5:-4])\n",
        "print(name[-6:-5])\n",
        "print(name[-6:-4])\n",
        "print(name[-6:-3])\n",
        "print(name[-6:-2])\n",
        "print(name[-6:-1])\n",
        "print(name[-3:-1])\n",
        "print(name[-2:-1])\n",
        "print(name[-4:-1])\n",
        "\n",
        "\n"
      ],
      "execution_count": null,
      "outputs": [
        {
          "output_type": "stream",
          "text": [
            "j\n",
            "d\n",
            "dj\n",
            "dja\n",
            "djan\n",
            "djang\n",
            "ng\n",
            "g\n",
            "ang\n"
          ],
          "name": "stdout"
        }
      ]
    },
    {
      "cell_type": "markdown",
      "metadata": {
        "id": "y-04w9K5mrHG",
        "colab_type": "text"
      },
      "source": [
        "Ex2 "
      ]
    },
    {
      "cell_type": "code",
      "metadata": {
        "id": "U3TxSglFiNsg",
        "colab_type": "code",
        "colab": {}
      },
      "source": [
        "# Given this nested list:\n",
        "nested_lst= [3, 7, [1, 4, 'hello']]\n",
        "# Reassign \"hello\" to be \"goodbye\""
      ],
      "execution_count": null,
      "outputs": []
    },
    {
      "cell_type": "code",
      "metadata": {
        "id": "k4aU9nVvoyyq",
        "colab_type": "code",
        "colab": {}
      },
      "source": [
        "nested_lst[2][2]='goodbye'"
      ],
      "execution_count": null,
      "outputs": []
    },
    {
      "cell_type": "code",
      "metadata": {
        "id": "t9s8314woy9w",
        "colab_type": "code",
        "colab": {
          "base_uri": "https://localhost:8080/",
          "height": 35
        },
        "outputId": "8feb02f8-529a-46fb-a105-84ccbdd7e2c6"
      },
      "source": [
        "nested_lst"
      ],
      "execution_count": null,
      "outputs": [
        {
          "output_type": "execute_result",
          "data": {
            "text/plain": [
              "[3, 7, [1, 4, 'goodbye']]"
            ]
          },
          "metadata": {
            "tags": []
          },
          "execution_count": 76
        }
      ]
    },
    {
      "cell_type": "code",
      "metadata": {
        "id": "CnVIlETCn0MW",
        "colab_type": "code",
        "colab": {}
      },
      "source": [
        "#list2 with item 2 and ='goodbye'"
      ],
      "execution_count": null,
      "outputs": []
    },
    {
      "cell_type": "markdown",
      "metadata": {
        "id": "UEMvVulIrAfG",
        "colab_type": "text"
      },
      "source": [
        "Ex3"
      ]
    },
    {
      "cell_type": "code",
      "metadata": {
        "id": "QkeSZfBSq16z",
        "colab_type": "code",
        "colab": {}
      },
      "source": [
        "# Join all list's elements with: \" + \"\n",
        "lst = [\"Paris\", \"London\", \"Madrid\", \"Bucharest\"]"
      ],
      "execution_count": null,
      "outputs": []
    },
    {
      "cell_type": "code",
      "metadata": {
        "id": "1cjmJQcVrEG9",
        "colab_type": "code",
        "colab": {}
      },
      "source": [
        "lst=[\"Paris\" + \"London\" + \"Madrid\" + \"Bucharest\"]"
      ],
      "execution_count": null,
      "outputs": []
    },
    {
      "cell_type": "code",
      "metadata": {
        "id": "M1XqFAg1rLGI",
        "colab_type": "code",
        "colab": {
          "base_uri": "https://localhost:8080/",
          "height": 35
        },
        "outputId": "96776358-4564-4923-bd98-7bf0275a22b2"
      },
      "source": [
        "lst"
      ],
      "execution_count": null,
      "outputs": [
        {
          "output_type": "execute_result",
          "data": {
            "text/plain": [
              "['ParisLondonMadridBucharest']"
            ]
          },
          "metadata": {
            "tags": []
          },
          "execution_count": 83
        }
      ]
    },
    {
      "cell_type": "markdown",
      "metadata": {
        "id": "gCfzz_jOrqME",
        "colab_type": "text"
      },
      "source": [
        "Ex4"
      ]
    },
    {
      "cell_type": "code",
      "metadata": {
        "id": "v4d_PxhsrrN3",
        "colab_type": "code",
        "colab": {}
      },
      "source": [
        "# Join the tuple's elements so that you get a proper email address.\n",
        "values = ('mark.hoggins', 'email.com')"
      ],
      "execution_count": null,
      "outputs": []
    },
    {
      "cell_type": "code",
      "metadata": {
        "id": "hiwP8e73rsuG",
        "colab_type": "code",
        "colab": {}
      },
      "source": [
        "values=('mark.hoggins' + 'email.com')"
      ],
      "execution_count": null,
      "outputs": []
    },
    {
      "cell_type": "code",
      "metadata": {
        "id": "S35PAN9DryG7",
        "colab_type": "code",
        "colab": {
          "base_uri": "https://localhost:8080/",
          "height": 35
        },
        "outputId": "1b0e4ad6-cdff-4176-e7e1-a394e6a86699"
      },
      "source": [
        "values"
      ],
      "execution_count": null,
      "outputs": [
        {
          "output_type": "execute_result",
          "data": {
            "application/vnd.google.colaboratory.intrinsic+json": {
              "type": "string"
            },
            "text/plain": [
              "'mark.hogginsemail.com'"
            ]
          },
          "metadata": {
            "tags": []
          },
          "execution_count": 98
        }
      ]
    },
    {
      "cell_type": "markdown",
      "metadata": {
        "id": "2ZIfinizszeJ",
        "colab_type": "text"
      },
      "source": [
        "Ex5"
      ]
    },
    {
      "cell_type": "code",
      "metadata": {
        "id": "nleMXMP8s001",
        "colab_type": "code",
        "colab": {}
      },
      "source": [
        "# Join the sentences in the list so that it looks like a proper poem\n",
        "poem_lst = ['''Not enjoyment, and not sorrow,\n",
        "            Is our destined end or way;\n",
        "            But to act, that each tomorrow,\n",
        "            Find us farther than today.''']"
      ],
      "execution_count": null,
      "outputs": []
    },
    {
      "cell_type": "code",
      "metadata": {
        "id": "IUQSkQiLu6iH",
        "colab_type": "code",
        "colab": {
          "base_uri": "https://localhost:8080/",
          "height": 55
        },
        "outputId": "6082f17b-14ce-4153-c7f6-d28c39cf9165"
      },
      "source": [
        "poem_lst"
      ],
      "execution_count": null,
      "outputs": [
        {
          "output_type": "execute_result",
          "data": {
            "text/plain": [
              "['Not enjoyment, and not sorrow,\\n            Is our destined end or way;\\n            But to act, that each tomorrow,\\n            Find us farther than today.']"
            ]
          },
          "metadata": {
            "tags": []
          },
          "execution_count": 117
        }
      ]
    },
    {
      "cell_type": "markdown",
      "metadata": {
        "id": "5o29l8Og0VxO",
        "colab_type": "text"
      },
      "source": [
        "Ex 6"
      ]
    },
    {
      "cell_type": "code",
      "metadata": {
        "id": "FB_AAodbu6of",
        "colab_type": "code",
        "colab": {}
      },
      "source": [
        "# Exercise 6\n",
        "###############\n",
        "\n",
        "# Using keys and indexing, grab the 'hello' from the following dictionaries:\n",
        "d1 = {'simple_key': 'hello'}\n",
        "\n",
        "d2 = {'k1': {'k2': 'hello'}}\n",
        "\n",
        "d3 = {'k1': [{'nest_key': ['this is deep', ['hello']]}]}"
      ],
      "execution_count": null,
      "outputs": []
    },
    {
      "cell_type": "code",
      "metadata": {
        "id": "qdOXLXkFtRf-",
        "colab_type": "code",
        "colab": {
          "base_uri": "https://localhost:8080/",
          "height": 35
        },
        "outputId": "a07b2e84-6510-4372-d8f4-fed3affa5eec"
      },
      "source": [
        "d1.get(\"simple_key\")\n"
      ],
      "execution_count": null,
      "outputs": [
        {
          "output_type": "execute_result",
          "data": {
            "application/vnd.google.colaboratory.intrinsic+json": {
              "type": "string"
            },
            "text/plain": [
              "'hello'"
            ]
          },
          "metadata": {
            "tags": []
          },
          "execution_count": 127
        }
      ]
    },
    {
      "cell_type": "code",
      "metadata": {
        "id": "mCc8fRof2ZXe",
        "colab_type": "code",
        "colab": {
          "base_uri": "https://localhost:8080/",
          "height": 35
        },
        "outputId": "0d36c2cf-747e-4a3d-a9b8-cc8ceb4e0953"
      },
      "source": [
        "d2['k1']['k2']"
      ],
      "execution_count": null,
      "outputs": [
        {
          "output_type": "execute_result",
          "data": {
            "application/vnd.google.colaboratory.intrinsic+json": {
              "type": "string"
            },
            "text/plain": [
              "'hello'"
            ]
          },
          "metadata": {
            "tags": []
          },
          "execution_count": 128
        }
      ]
    },
    {
      "cell_type": "code",
      "metadata": {
        "id": "ATnIGryn2syb",
        "colab_type": "code",
        "colab": {
          "base_uri": "https://localhost:8080/",
          "height": 35
        },
        "outputId": "12d7f7b4-1f12-4e78-c529-078ca2d0a1cc"
      },
      "source": [
        "d3 = {'k1': [{'nest_key': ['this is deep', ['hello']]}]}\n",
        "d3['k1'][0]"
      ],
      "execution_count": null,
      "outputs": [
        {
          "output_type": "execute_result",
          "data": {
            "text/plain": [
              "{'nest_key': ['this is deep', ['hello']]}"
            ]
          },
          "metadata": {
            "tags": []
          },
          "execution_count": 147
        }
      ]
    },
    {
      "cell_type": "code",
      "metadata": {
        "id": "cnebCZ2K3SSZ",
        "colab_type": "code",
        "colab": {
          "base_uri": "https://localhost:8080/",
          "height": 35
        },
        "outputId": "2de8c1ec-bcfa-428d-bcd0-3e8c37485aed"
      },
      "source": [
        "d3['k1'][0]['nest_key'][1]"
      ],
      "execution_count": null,
      "outputs": [
        {
          "output_type": "execute_result",
          "data": {
            "text/plain": [
              "['hello']"
            ]
          },
          "metadata": {
            "tags": []
          },
          "execution_count": 148
        }
      ]
    },
    {
      "cell_type": "markdown",
      "metadata": {
        "id": "i2u-kTw-6MOw",
        "colab_type": "text"
      },
      "source": [
        "Ex7"
      ]
    },
    {
      "cell_type": "code",
      "metadata": {
        "id": "SeW-ThAO6Nbc",
        "colab_type": "code",
        "colab": {}
      },
      "source": [
        "# Try to look for key: \"son's age\" and if nothing comes up, make the .get() to return \"2\" as default.\n",
        "d4 = {\"son's name\": \"Lucas\", \"son's eye color\": \"green\", \"son's height\": 32, \"son's weight\": 25}\n"
      ],
      "execution_count": null,
      "outputs": []
    },
    {
      "cell_type": "code",
      "metadata": {
        "id": "L0ES_99e-aiw",
        "colab_type": "code",
        "colab": {}
      },
      "source": [
        "d4.get(2)"
      ],
      "execution_count": null,
      "outputs": []
    },
    {
      "cell_type": "code",
      "metadata": {
        "id": "r5MpuZB--dTX",
        "colab_type": "code",
        "colab": {
          "base_uri": "https://localhost:8080/",
          "height": 87
        },
        "outputId": "9a41deba-edac-4c67-f49e-376e33413f72"
      },
      "source": [
        "d4"
      ],
      "execution_count": null,
      "outputs": [
        {
          "output_type": "execute_result",
          "data": {
            "text/plain": [
              "{\"son's eye color\": 'green',\n",
              " \"son's height\": 32,\n",
              " \"son's name\": 'Lucas',\n",
              " \"son's weight\": 25}"
            ]
          },
          "metadata": {
            "tags": []
          },
          "execution_count": 151
        }
      ]
    },
    {
      "cell_type": "code",
      "metadata": {
        "id": "Fgwx2IiJDZwT",
        "colab_type": "code",
        "colab": {
          "base_uri": "https://localhost:8080/",
          "height": 35
        },
        "outputId": "3677e91f-0642-4ace-f264-109763a323dc"
      },
      "source": [
        "print (d4.get(2))"
      ],
      "execution_count": null,
      "outputs": [
        {
          "output_type": "stream",
          "text": [
            "None\n"
          ],
          "name": "stdout"
        }
      ]
    },
    {
      "cell_type": "markdown",
      "metadata": {
        "id": "Kq_cmfk-vSip",
        "colab_type": "text"
      },
      "source": [
        "EX8"
      ]
    },
    {
      "cell_type": "code",
      "metadata": {
        "id": "kq2S0fB0DTp7",
        "colab_type": "code",
        "colab": {}
      },
      "source": [
        "# From below list create a new list with unique elements:\n",
        "numbers = [1, 1, 1, 1, 1, 2, 2, 2, 2, 3, 3, 3, 3]"
      ],
      "execution_count": null,
      "outputs": []
    },
    {
      "cell_type": "code",
      "metadata": {
        "id": "-TO99RdOwfI6",
        "colab_type": "code",
        "colab": {
          "base_uri": "https://localhost:8080/",
          "height": 35
        },
        "outputId": "db139f20-8771-4cc4-da26-276fbdebec07"
      },
      "source": [
        "numbers #remove duplicates"
      ],
      "execution_count": null,
      "outputs": [
        {
          "output_type": "execute_result",
          "data": {
            "text/plain": [
              "[1, 1, 1, 1, 1, 2, 2, 2, 2, 3, 3, 3, 3]"
            ]
          },
          "metadata": {
            "tags": []
          },
          "execution_count": 32
        }
      ]
    },
    {
      "cell_type": "code",
      "metadata": {
        "id": "bDW3ULxXzlwt",
        "colab_type": "code",
        "colab": {}
      },
      "source": [
        "mylist = list(dict.fromkeys(numbers))"
      ],
      "execution_count": null,
      "outputs": []
    },
    {
      "cell_type": "code",
      "metadata": {
        "id": "Lmb-3Q7g0ESH",
        "colab_type": "code",
        "colab": {
          "base_uri": "https://localhost:8080/",
          "height": 35
        },
        "outputId": "b13fb795-3653-44c8-e4d5-e00df74c7bb7"
      },
      "source": [
        "mylist"
      ],
      "execution_count": null,
      "outputs": [
        {
          "output_type": "execute_result",
          "data": {
            "text/plain": [
              "[1, 2, 3]"
            ]
          },
          "metadata": {
            "tags": []
          },
          "execution_count": 34
        }
      ]
    },
    {
      "cell_type": "markdown",
      "metadata": {
        "id": "EMI0bc2w0bty",
        "colab_type": "text"
      },
      "source": [
        "Ex9"
      ]
    },
    {
      "cell_type": "code",
      "metadata": {
        "id": "TPxh55di0GoL",
        "colab_type": "code",
        "colab": {}
      },
      "source": [
        "# You are given two variables:\n",
        "age = 4\n",
        "name = \"George\"\n",
        "\n",
        "# Use print formatting to print the following string: #de ce nu-mi zici ca vrei placeholder?\n",
        "\"Hello my dog's name is George and he is 4 years old\"\n"
      ],
      "execution_count": null,
      "outputs": []
    },
    {
      "cell_type": "code",
      "metadata": {
        "id": "Jenb6m6N1sLX",
        "colab_type": "code",
        "colab": {
          "base_uri": "https://localhost:8080/",
          "height": 35
        },
        "outputId": "e8dbda2b-f528-4f6a-e022-ab4abe62a524"
      },
      "source": [
        "age = 4\n",
        "txt=\"Hello my dog's name is George and he is {} years old\"\n",
        "print(txt.format(age))\n"
      ],
      "execution_count": null,
      "outputs": [
        {
          "output_type": "stream",
          "text": [
            "Hello my dog's name is George and he is 4 years old\n"
          ],
          "name": "stdout"
        }
      ]
    },
    {
      "cell_type": "code",
      "metadata": {
        "id": "Gs1hwviT0rDa",
        "colab_type": "code",
        "colab": {
          "base_uri": "https://localhost:8080/",
          "height": 35
        },
        "outputId": "c3624267-43d7-4244-b2bc-8294fecbce94"
      },
      "source": [
        "name=\"George\"\n",
        "txt = \"Hello my dog's name is {} and he is 4 years old\"\n",
        "print(txt.format(name))\n"
      ],
      "execution_count": 58,
      "outputs": [
        {
          "output_type": "stream",
          "text": [
            "Hello my dog's name is George and he is 4 years old\n"
          ],
          "name": "stdout"
        }
      ]
    },
    {
      "cell_type": "markdown",
      "metadata": {
        "id": "nVDdB4zW4QXA",
        "colab_type": "text"
      },
      "source": [
        "Ex 10"
      ]
    },
    {
      "cell_type": "code",
      "metadata": {
        "id": "tFBIHhm14R4y",
        "colab_type": "code",
        "colab": {}
      },
      "source": [
        "# Create a set from a list and remove 'name' if it is present in the set\n",
        "numbers2 = [34, 123, 4, 34, 'name', 54]\n",
        "numbers2.remove(\"name\")"
      ],
      "execution_count": 59,
      "outputs": []
    },
    {
      "cell_type": "code",
      "metadata": {
        "id": "Y44By4ms4gXh",
        "colab_type": "code",
        "colab": {
          "base_uri": "https://localhost:8080/",
          "height": 35
        },
        "outputId": "084a9243-9484-4729-a612-1a1d34063f55"
      },
      "source": [
        "numbers2"
      ],
      "execution_count": 60,
      "outputs": [
        {
          "output_type": "execute_result",
          "data": {
            "text/plain": [
              "[34, 123, 4, 34, 54]"
            ]
          },
          "metadata": {
            "tags": []
          },
          "execution_count": 60
        }
      ]
    },
    {
      "cell_type": "code",
      "metadata": {
        "id": "U0F0dzMD4iZJ",
        "colab_type": "code",
        "colab": {}
      },
      "source": [
        "numbers2=set([34, 123, 4, 34, 54])"
      ],
      "execution_count": 63,
      "outputs": []
    },
    {
      "cell_type": "code",
      "metadata": {
        "id": "jHDZinvu4oPN",
        "colab_type": "code",
        "colab": {
          "base_uri": "https://localhost:8080/",
          "height": 35
        },
        "outputId": "761028f1-f94d-4567-f15a-179ec47432cc"
      },
      "source": [
        "numbers2"
      ],
      "execution_count": 64,
      "outputs": [
        {
          "output_type": "execute_result",
          "data": {
            "text/plain": [
              "{4, 34, 54, 123}"
            ]
          },
          "metadata": {
            "tags": []
          },
          "execution_count": 64
        }
      ]
    },
    {
      "cell_type": "markdown",
      "metadata": {
        "id": "M_fCTx4I6ZYS",
        "colab_type": "text"
      },
      "source": [
        "Ex11"
      ]
    },
    {
      "cell_type": "code",
      "metadata": {
        "id": "j2om9LmI7pGi",
        "colab_type": "code",
        "colab": {}
      },
      "source": [
        "# find two different ways to remove the string from the list\n",
        "# print the list in order\n",
        "# print removed element in uppercase :(\n",
        "values2 = [34, 123, 4, 34, 'name', 54] "
      ],
      "execution_count": 66,
      "outputs": []
    },
    {
      "cell_type": "code",
      "metadata": {
        "id": "vx9jhaSH8vpl",
        "colab_type": "code",
        "colab": {}
      },
      "source": [
        "values2 = [34, 123, 4, 34, 'name', 54]\n",
        "values2.remove(\"name\") #version1 of name removal"
      ],
      "execution_count": 79,
      "outputs": []
    },
    {
      "cell_type": "code",
      "metadata": {
        "id": "zZFlK9vo74J-",
        "colab_type": "code",
        "colab": {
          "base_uri": "https://localhost:8080/",
          "height": 35
        },
        "outputId": "3e4d31be-e391-4976-b128-e24542429c37"
      },
      "source": [
        "values2"
      ],
      "execution_count": 84,
      "outputs": [
        {
          "output_type": "execute_result",
          "data": {
            "text/plain": [
              "[34, 123, 4, 34, 54]"
            ]
          },
          "metadata": {
            "tags": []
          },
          "execution_count": 84
        }
      ]
    },
    {
      "cell_type": "code",
      "metadata": {
        "id": "NALeJyHL751t",
        "colab_type": "code",
        "colab": {}
      },
      "source": [
        "values2.sort()"
      ],
      "execution_count": 85,
      "outputs": []
    },
    {
      "cell_type": "code",
      "metadata": {
        "id": "nLxout4I8HJT",
        "colab_type": "code",
        "colab": {
          "base_uri": "https://localhost:8080/",
          "height": 35
        },
        "outputId": "83da8738-a1e1-4ea8-844d-3bac567fdf3a"
      },
      "source": [
        "values2"
      ],
      "execution_count": 86,
      "outputs": [
        {
          "output_type": "execute_result",
          "data": {
            "text/plain": [
              "[4, 34, 34, 54, 123]"
            ]
          },
          "metadata": {
            "tags": []
          },
          "execution_count": 86
        }
      ]
    },
    {
      "cell_type": "code",
      "metadata": {
        "id": "z-99FOGF9I-r",
        "colab_type": "code",
        "colab": {}
      },
      "source": [
        "# find two different ways to remove the string from the list\n",
        "values2 = [34, 123, 4, 34, 'name', 54]\n",
        "values2.remove(\"name\") #version2 of name removal"
      ],
      "execution_count": 111,
      "outputs": []
    },
    {
      "cell_type": "code",
      "metadata": {
        "id": "6YXFhmI9AtNs",
        "colab_type": "code",
        "colab": {
          "base_uri": "https://localhost:8080/",
          "height": 35
        },
        "outputId": "5700c1f5-5c1f-41a8-b030-548b095d524f"
      },
      "source": [
        "print(values2.pop(4))"
      ],
      "execution_count": 112,
      "outputs": [
        {
          "output_type": "stream",
          "text": [
            "54\n"
          ],
          "name": "stdout"
        }
      ]
    },
    {
      "cell_type": "code",
      "metadata": {
        "id": "fHfVTfw7Ata5",
        "colab_type": "code",
        "colab": {}
      },
      "source": [
        "values2.sort()"
      ],
      "execution_count": 113,
      "outputs": []
    },
    {
      "cell_type": "code",
      "metadata": {
        "id": "PIr6iXr4AtjT",
        "colab_type": "code",
        "colab": {}
      },
      "source": [
        ""
      ],
      "execution_count": null,
      "outputs": []
    },
    {
      "cell_type": "markdown",
      "metadata": {
        "id": "QWypX0FHBpxm",
        "colab_type": "text"
      },
      "source": [
        "Ex12"
      ]
    },
    {
      "cell_type": "code",
      "metadata": {
        "id": "JkkWeXhGBrzY",
        "colab_type": "code",
        "colab": {
          "base_uri": "https://localhost:8080/",
          "height": 35
        },
        "outputId": "0131dbb3-97e9-439a-ae79-34121dcf5a21"
      },
      "source": [
        "\n",
        "# create a list from a string\n",
        "text = 'comprehension'\n",
        "\n",
        "print(text.split())"
      ],
      "execution_count": 116,
      "outputs": [
        {
          "output_type": "stream",
          "text": [
            "['comprehension']\n"
          ],
          "name": "stdout"
        }
      ]
    },
    {
      "cell_type": "code",
      "metadata": {
        "id": "L_1wyhNPCXHI",
        "colab_type": "code",
        "colab": {}
      },
      "source": [
        "for item in text:\n",
        "    texts = text.split(',')"
      ],
      "execution_count": 123,
      "outputs": []
    },
    {
      "cell_type": "code",
      "metadata": {
        "id": "rAKIigV6CnIz",
        "colab_type": "code",
        "colab": {
          "base_uri": "https://localhost:8080/",
          "height": 35
        },
        "outputId": "6487e4da-52c9-4c3a-a381-bb83d3644f34"
      },
      "source": [
        "print(type(texts))"
      ],
      "execution_count": 125,
      "outputs": [
        {
          "output_type": "stream",
          "text": [
            "<class 'list'>\n"
          ],
          "name": "stdout"
        }
      ]
    },
    {
      "cell_type": "code",
      "metadata": {
        "id": "Obb1PJzqDKBr",
        "colab_type": "code",
        "colab": {
          "base_uri": "https://localhost:8080/",
          "height": 35
        },
        "outputId": "dc697a77-f8b4-4244-8b2c-318fb5dca0a7"
      },
      "source": [
        "texts"
      ],
      "execution_count": 126,
      "outputs": [
        {
          "output_type": "execute_result",
          "data": {
            "text/plain": [
              "['comprehension']"
            ]
          },
          "metadata": {
            "tags": []
          },
          "execution_count": 126
        }
      ]
    },
    {
      "cell_type": "markdown",
      "metadata": {
        "id": "oRxlCtBfDxao",
        "colab_type": "text"
      },
      "source": [
        "Ex 13"
      ]
    },
    {
      "cell_type": "code",
      "metadata": {
        "id": "HGfauh3eDVGS",
        "colab_type": "code",
        "colab": {}
      },
      "source": [
        "# Let’s say I give you a list saved in a variable:\n",
        "numbers3 = [1, 4, 9, 16, 25, 36, 49, 64, 81, 100]\n",
        "# Write one line of Python that takes this list and makes a new list that has only the even elements of this list in it.\n"
      ],
      "execution_count": null,
      "outputs": []
    },
    {
      "cell_type": "code",
      "metadata": {
        "id": "Pf8cEWLwEul-",
        "colab_type": "code",
        "colab": {}
      },
      "source": [
        "numbers3 = [1, 4, 9, 16, 25, 36, 49, 64, 81, 100]"
      ],
      "execution_count": 129,
      "outputs": []
    },
    {
      "cell_type": "code",
      "metadata": {
        "id": "KGAvupJLEujK",
        "colab_type": "code",
        "colab": {}
      },
      "source": [
        "numbers4 = list(filter(lambda x: (x % 2 == 0), numbers3))"
      ],
      "execution_count": 132,
      "outputs": []
    },
    {
      "cell_type": "code",
      "metadata": {
        "id": "nZrhnbgmE-2h",
        "colab_type": "code",
        "colab": {
          "base_uri": "https://localhost:8080/",
          "height": 35
        },
        "outputId": "258d0eea-4647-43e2-a296-89be18bc8857"
      },
      "source": [
        "numbers4"
      ],
      "execution_count": 134,
      "outputs": [
        {
          "output_type": "execute_result",
          "data": {
            "text/plain": [
              "[4, 16, 36, 64, 100]"
            ]
          },
          "metadata": {
            "tags": []
          },
          "execution_count": 134
        }
      ]
    },
    {
      "cell_type": "markdown",
      "metadata": {
        "id": "sy9eVASpGGKY",
        "colab_type": "text"
      },
      "source": [
        "Ex14"
      ]
    },
    {
      "cell_type": "code",
      "metadata": {
        "id": "tsHdMtw7FFeh",
        "colab_type": "code",
        "colab": {}
      },
      "source": [
        "# Create a dictionary with each data type from Python\n",
        "# name the dictionary: data_types\n",
        "# as key use the name of data type\n",
        "# as value use the correct data type format\n",
        "\n",
        "data_types = {'string': 'this is a text'}\n",
        "\n",
        "# Bonus: on values generate random elements"
      ],
      "execution_count": null,
      "outputs": []
    },
    {
      "cell_type": "code",
      "metadata": {
        "id": "dQw01NctGPdD",
        "colab_type": "code",
        "colab": {}
      },
      "source": [
        "data_types={'string': 'Hello World',\n",
        "            'Int':[2,4,7,9],\n",
        "            'Bool':True}"
      ],
      "execution_count": 135,
      "outputs": []
    },
    {
      "cell_type": "code",
      "metadata": {
        "id": "tU5xqLvsHCOd",
        "colab_type": "code",
        "colab": {
          "base_uri": "https://localhost:8080/",
          "height": 35
        },
        "outputId": "24be92ce-00b9-4bd2-fd83-edcddc53a44a"
      },
      "source": [
        "data_types"
      ],
      "execution_count": 136,
      "outputs": [
        {
          "output_type": "execute_result",
          "data": {
            "text/plain": [
              "{'Bool': True, 'Int': [2, 4, 7, 9], 'string': 'Hello World'}"
            ]
          },
          "metadata": {
            "tags": []
          },
          "execution_count": 136
        }
      ]
    },
    {
      "cell_type": "code",
      "metadata": {
        "id": "DL5RaCApHEiB",
        "colab_type": "code",
        "colab": {}
      },
      "source": [
        ""
      ],
      "execution_count": 138,
      "outputs": []
    },
    {
      "cell_type": "code",
      "metadata": {
        "id": "aLd28AQpHHtz",
        "colab_type": "code",
        "colab": {}
      },
      "source": [
        ""
      ],
      "execution_count": 138,
      "outputs": []
    },
    {
      "cell_type": "code",
      "metadata": {
        "id": "CtAHgcwPHJxV",
        "colab_type": "code",
        "colab": {}
      },
      "source": [
        ""
      ],
      "execution_count": null,
      "outputs": []
    }
  ]
}